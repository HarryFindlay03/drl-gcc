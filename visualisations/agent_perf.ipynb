{
 "cells": [
  {
   "cell_type": "code",
   "execution_count": null,
   "metadata": {},
   "outputs": [],
   "source": [
    "import pandas as pd\n",
    "import numpy as np\n",
    "import matplotlib.pyplot as plt\n",
    "import matplotlib.colors\n",
    "import seaborn as sns"
   ]
  },
  {
   "cell_type": "code",
   "execution_count": null,
   "metadata": {},
   "outputs": [],
   "source": [
    "df = pd.read_csv(\"data/train_gradient.txt\", header=None)\n",
    "\n",
    "plt.figure(figsize=(14, 5))\n",
    "\n",
    "x_vals = np.arange(0, len(df[0]), 1)\n",
    "y_vals = df[0]\n",
    "plt.plot(x_vals, y_vals, color='blue', label=\"Gradient during training\")\n",
    "\n",
    "plt.xlabel(\"Epoch\")\n",
    "plt.ylabel(\"Gradient\")\n",
    "plt.grid(True)\n",
    "plt.title(\"Gradient of output layer during training\")\n",
    "plt.legend()\n",
    "plt.show()"
   ]
  },
  {
   "cell_type": "code",
   "execution_count": null,
   "metadata": {},
   "outputs": [],
   "source": [
    "# bar plot of RL optimiser compilation time vs random optimiser compilation time - percentage difference\n",
    "\n",
    "programs = [\"2mm\", \"gesummv\", \"correlation\", \"durbin\", \"lu\", \"reg_detect\", \"jacobi-2d-imper\"]\n",
    "\n",
    "rl_optimiser_values = [1.33, 1.27, 1.18, 1.35, 1.14, 1.17, 1.15]\n",
    "random_optimiser_values = [513.37, 36.54, 117.41, 41.248, 46.59, 30.30, 29.26]\n",
    "\n",
    "plot_vals = []\n",
    "for i in range(0, len(rl_optimiser_values)):\n",
    "    plot_vals.append((random_optimiser_values[i] - rl_optimiser_values[i]) / (abs(rl_optimiser_values[i])) * 100)\n",
    "\n",
    "plt.figure(figsize=(12, 4))\n",
    "sns.barplot(x=programs, y=plot_vals, width=0.3, color='steelblue', alpha=0.75)\n",
    "plt.xlabel(\"Program\")\n",
    "plt.ylabel(\"Percentage change / %\")\n",
    "plt.title(\"Bar plot showing the percentage change in program runtime between RL optimiser and random optimiser\")\n",
    "plt.show()\n"
   ]
  }
 ],
 "metadata": {
  "kernelspec": {
   "display_name": ".env",
   "language": "python",
   "name": "python3"
  },
  "language_info": {
   "codemirror_mode": {
    "name": "ipython",
    "version": 3
   },
   "file_extension": ".py",
   "mimetype": "text/x-python",
   "name": "python",
   "nbconvert_exporter": "python",
   "pygments_lexer": "ipython3",
   "version": "3.12.2"
  }
 },
 "nbformat": 4,
 "nbformat_minor": 2
}
